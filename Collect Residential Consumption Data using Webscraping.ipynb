{
 "cells": [
  {
   "cell_type": "code",
   "execution_count": 1,
   "id": "439f666a",
   "metadata": {},
   "outputs": [],
   "source": [
    "import pandas as pd\n",
    "from bs4 import BeautifulSoup\n",
    "import requests\n",
    "from lxml import html\n",
    "import string\n",
    "from datetime import datetime"
   ]
  },
  {
   "cell_type": "markdown",
   "id": "b42d0ae7",
   "metadata": {},
   "source": [
    "## Check if Connection Works"
   ]
  },
  {
   "cell_type": "code",
   "execution_count": 2,
   "id": "78b90092",
   "metadata": {},
   "outputs": [
    {
     "name": "stdout",
     "output_type": "stream",
     "text": [
      "Connection successful to https://www.eia.gov/dnav/ng/hist/n3010us2A.htm\n",
      "Webpage Title: U.S. Natural Gas Residential Consumption  (Million Cubic Feet)\n"
     ]
    }
   ],
   "source": [
    "url = 'https://www.eia.gov/dnav/ng/hist/n3010us2A.htm'  # Replace with the URL of the website you want to check\n",
    "\n",
    "try:\n",
    "    # Make an HTTP request to the website\n",
    "    response = requests.get(url)\n",
    "\n",
    "    # Check if the request was successful (status code 200)\n",
    "    if response.status_code == 200:\n",
    "        print(f\"Connection successful to {url}\")\n",
    "\n",
    "        # Use Beautiful Soup to parse the HTML content\n",
    "        soup = BeautifulSoup(response.text, 'lxml')\n",
    "\n",
    "        # Now you can work with the BeautifulSoup object (soup) to extract information\n",
    "        # For example, print the title of the webpage\n",
    "        print(\"Webpage Title:\", soup.title.text)\n",
    "    else:\n",
    "        print(f\"Failed to connect to {url}. Status code: {response.status_code}\")\n",
    "\n",
    "except Exception as e:\n",
    "    print(f\"An error occurred: {e}\")"
   ]
  },
  {
   "cell_type": "markdown",
   "id": "c196eb29",
   "metadata": {},
   "source": [
    "## Find Table of Information"
   ]
  },
  {
   "cell_type": "code",
   "execution_count": 3,
   "id": "d96bb01e",
   "metadata": {},
   "outputs": [],
   "source": [
    "table = soup.find_all('td', class_=['B3', 'B4'])"
   ]
  },
  {
   "cell_type": "code",
   "execution_count": 4,
   "id": "b451af2f",
   "metadata": {},
   "outputs": [
    {
     "data": {
      "text/plain": [
       "bs4.element.ResultSet"
      ]
     },
     "execution_count": 4,
     "metadata": {},
     "output_type": "execute_result"
    }
   ],
   "source": [
    "type(table)"
   ]
  },
  {
   "cell_type": "code",
   "execution_count": 5,
   "id": "e9fa157f",
   "metadata": {},
   "outputs": [
    {
     "data": {
      "text/plain": [
       "[<td class=\"B4\">  1930's</td>,\n",
       " <td class=\"B3\">295,700</td>,\n",
       " <td class=\"B3\">294,406</td>,\n",
       " <td class=\"B3\">298,520</td>,\n",
       " <td class=\"B3\">283,197</td>,\n",
       " <td class=\"B3\">288,236</td>,\n",
       " <td class=\"B3\">313,498</td>,\n",
       " <td class=\"B3\">343,346</td>,\n",
       " <td class=\"B3\">371,844</td>,\n",
       " <td class=\"B3\">367,772</td>,\n",
       " <td class=\"B3\">391,153</td>,\n",
       " <td class=\"B4\">  1940's</td>,\n",
       " <td class=\"B3\">443,646</td>,\n",
       " <td class=\"B3\">442,067</td>,\n",
       " <td class=\"B3\">498,537</td>,\n",
       " <td class=\"B3\">529,444</td>,\n",
       " <td class=\"B3\">562,183</td>,\n",
       " <td class=\"B3\">607,400</td>,\n",
       " <td class=\"B3\">660,820</td>,\n",
       " <td class=\"B3\">802,150</td>,\n",
       " <td class=\"B3\">896,348</td>,\n",
       " <td class=\"B3\">992,544</td>,\n",
       " <td class=\"B4\">  1950's</td>,\n",
       " <td class=\"B3\">1,198,369</td>,\n",
       " <td class=\"B3\">1,474,725</td>,\n",
       " <td class=\"B3\">1,621,966</td>,\n",
       " <td class=\"B3\">1,685,503</td>,\n",
       " <td class=\"B3\">1,894,248</td>,\n",
       " <td class=\"B3\">2,123,952</td>,\n",
       " <td class=\"B3\">2,327,564</td>,\n",
       " <td class=\"B3\">2,500,269</td>,\n",
       " <td class=\"B3\">2,714,251</td>,\n",
       " <td class=\"B3\">2,912,601</td>,\n",
       " <td class=\"B4\">  1960's</td>,\n",
       " <td class=\"B3\">3,103,167</td>,\n",
       " <td class=\"B3\">3,248,578</td>,\n",
       " <td class=\"B3\">3,478,563</td>,\n",
       " <td class=\"B3\">3,589,021</td>,\n",
       " <td class=\"B3\">3,787,292</td>,\n",
       " <td class=\"B3\">3,902,802</td>,\n",
       " <td class=\"B3\">4,138,259</td>,\n",
       " <td class=\"B3\">4,313,304</td>,\n",
       " <td class=\"B3\">4,450,354</td>,\n",
       " <td class=\"B3\">4,728,281</td>,\n",
       " <td class=\"B4\">  1970's</td>,\n",
       " <td class=\"B3\">4,837,432</td>,\n",
       " <td class=\"B3\">4,971,690</td>,\n",
       " <td class=\"B3\">5,125,982</td>,\n",
       " <td class=\"B3\">4,879,387</td>,\n",
       " <td class=\"B3\">4,786,128</td>,\n",
       " <td class=\"B3\">4,924,124</td>,\n",
       " <td class=\"B3\">5,051,360</td>,\n",
       " <td class=\"B3\">4,821,485</td>,\n",
       " <td class=\"B3\">4,903,006</td>,\n",
       " <td class=\"B3\">4,965,365</td>,\n",
       " <td class=\"B4\">  1980's</td>,\n",
       " <td class=\"B3\">4,752,082</td>,\n",
       " <td class=\"B3\">4,546,450</td>,\n",
       " <td class=\"B3\">4,633,035</td>,\n",
       " <td class=\"B3\">4,380,599</td>,\n",
       " <td class=\"B3\">4,555,465</td>,\n",
       " <td class=\"B3\">4,433,377</td>,\n",
       " <td class=\"B3\">4,313,969</td>,\n",
       " <td class=\"B3\">4,314,833</td>,\n",
       " <td class=\"B3\">4,630,330</td>,\n",
       " <td class=\"B3\">4,780,638</td>,\n",
       " <td class=\"B4\">  1990's</td>,\n",
       " <td class=\"B3\">4,391,324</td>,\n",
       " <td class=\"B3\">4,555,659</td>,\n",
       " <td class=\"B3\">4,690,065</td>,\n",
       " <td class=\"B3\">4,956,445</td>,\n",
       " <td class=\"B3\">4,847,702</td>,\n",
       " <td class=\"B3\">4,850,318</td>,\n",
       " <td class=\"B3\">5,241,414</td>,\n",
       " <td class=\"B3\">4,983,772</td>,\n",
       " <td class=\"B3\">4,520,276</td>,\n",
       " <td class=\"B3\">4,725,672</td>,\n",
       " <td class=\"B4\">  2000's</td>,\n",
       " <td class=\"B3\">4,996,179</td>,\n",
       " <td class=\"B3\">4,771,340</td>,\n",
       " <td class=\"B3\">4,888,818</td>,\n",
       " <td class=\"B3\">5,079,351</td>,\n",
       " <td class=\"B3\">4,868,797</td>,\n",
       " <td class=\"B3\">4,826,775</td>,\n",
       " <td class=\"B3\">4,368,466</td>,\n",
       " <td class=\"B3\">4,722,358</td>,\n",
       " <td class=\"B3\">4,892,277</td>,\n",
       " <td class=\"B3\">4,778,907</td>,\n",
       " <td class=\"B4\">  2010's</td>,\n",
       " <td class=\"B3\">4,782,412</td>,\n",
       " <td class=\"B3\">4,713,777</td>,\n",
       " <td class=\"B3\">4,149,519</td>,\n",
       " <td class=\"B3\">4,897,372</td>,\n",
       " <td class=\"B3\">5,087,471</td>,\n",
       " <td class=\"B3\">4,612,888</td>,\n",
       " <td class=\"B3\">4,346,588</td>,\n",
       " <td class=\"B3\">4,413,324</td>,\n",
       " <td class=\"B3\">4,997,554</td>,\n",
       " <td class=\"B3\">5,018,519</td>,\n",
       " <td class=\"B4\">  2020's</td>,\n",
       " <td class=\"B3\">4,674,456</td>,\n",
       " <td class=\"B3\">4,716,658</td>,\n",
       " <td class=\"B3\">4,964,165</td>,\n",
       " <td class=\"B3\"></td>,\n",
       " <td class=\"B3\"></td>,\n",
       " <td class=\"B3\"></td>,\n",
       " <td class=\"B3\"></td>,\n",
       " <td class=\"B3\"></td>,\n",
       " <td class=\"B3\"></td>,\n",
       " <td class=\"B3\"></td>]"
      ]
     },
     "execution_count": 5,
     "metadata": {},
     "output_type": "execute_result"
    }
   ],
   "source": [
    "table"
   ]
  },
  {
   "cell_type": "markdown",
   "id": "1196e95e",
   "metadata": {},
   "source": [
    "## Convert List of Values into DataFrame"
   ]
  },
  {
   "cell_type": "code",
   "execution_count": 6,
   "id": "78ae474d",
   "metadata": {},
   "outputs": [],
   "source": [
    "#Convert BS object to strings\n",
    "table_list = [str(tag) for tag in table]\n",
    "\n",
    "# Convert td elements to string\n",
    "html_content = ''.join(table_list)\n",
    "\n",
    "# Parse the HTML content\n",
    "tree = html.fromstring(html_content)\n",
    "\n",
    "# Extract all td elements\n",
    "data_list = tree.xpath(\"//td/text()\")\n"
   ]
  },
  {
   "cell_type": "code",
   "execution_count": 7,
   "id": "f3e979c1",
   "metadata": {},
   "outputs": [],
   "source": [
    "#remove unseen characters\n",
    "def remove_unseen_char(val):\n",
    "    return ''.join(char for char in val if char in string.printable)\n",
    "cleaned_data_list = [remove_unseen_char(elem) for elem in data_list]"
   ]
  },
  {
   "cell_type": "code",
   "execution_count": 8,
   "id": "ffe4b608",
   "metadata": {},
   "outputs": [],
   "source": [
    "#create lists of years and values for df \n",
    "years = []\n",
    "values = []\n",
    "for element in cleaned_data_list:\n",
    "    if \"'\" in element:\n",
    "        years.append(int(element[:4]))\n",
    "        #values.append()\n",
    "    else:\n",
    "        years.append(years[-1]+1)\n",
    "        values.append(element)\n",
    "years = list(set(years))[:-1]     "
   ]
  },
  {
   "cell_type": "code",
   "execution_count": 9,
   "id": "ebc654de",
   "metadata": {},
   "outputs": [],
   "source": [
    "df = pd.DataFrame({'Years': years, 'Consumption': values})"
   ]
  },
  {
   "cell_type": "markdown",
   "id": "7fc63c2c",
   "metadata": {},
   "source": [
    "## Convert df for Analysis"
   ]
  },
  {
   "cell_type": "code",
   "execution_count": 10,
   "id": "f5196e7a",
   "metadata": {},
   "outputs": [],
   "source": [
    "#convert columns into datetime and int objects\n",
    "df['Years'] = df['Years'].map(lambda x: datetime(x, 12, 31))\n",
    "df['Consumption'] = df['Consumption'].str.replace(',', '').astype(int)"
   ]
  },
  {
   "cell_type": "code",
   "execution_count": 13,
   "id": "e0840480",
   "metadata": {},
   "outputs": [],
   "source": [
    "df.to_csv('Residential_Consumption_data.csv')"
   ]
  },
  {
   "cell_type": "code",
   "execution_count": null,
   "id": "f9b72322",
   "metadata": {},
   "outputs": [],
   "source": []
  }
 ],
 "metadata": {
  "kernelspec": {
   "display_name": "Python 3 (ipykernel)",
   "language": "python",
   "name": "python3"
  },
  "language_info": {
   "codemirror_mode": {
    "name": "ipython",
    "version": 3
   },
   "file_extension": ".py",
   "mimetype": "text/x-python",
   "name": "python",
   "nbconvert_exporter": "python",
   "pygments_lexer": "ipython3",
   "version": "3.9.7"
  }
 },
 "nbformat": 4,
 "nbformat_minor": 5
}
